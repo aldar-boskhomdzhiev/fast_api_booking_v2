{
 "cells": [
  {
   "cell_type": "code",
   "id": "initial_id",
   "metadata": {
    "collapsed": true,
    "ExecuteTime": {
     "end_time": "2025-05-27T18:19:54.251634Z",
     "start_time": "2025-05-27T18:19:54.249800Z"
    }
   },
   "source": [
    "import time\n",
    "import asyncio\n",
    "\n",
    "from celery.bin.result import result\n"
   ],
   "outputs": [],
   "execution_count": 19
  },
  {
   "metadata": {
    "ExecuteTime": {
     "end_time": "2025-05-27T18:08:51.275528Z",
     "start_time": "2025-05-27T18:08:51.272701Z"
    }
   },
   "cell_type": "code",
   "source": [
    "def get_data_from_database(query: str):\n",
    "    print(f'Получен запрос: {query}')\n",
    "    if query == 'Сочи':\n",
    "        time.sleep(4)\n",
    "    elif query == 'Дубай':\n",
    "        time.sleep(2)\n",
    "    print(f\"Данные получены: {query}\")\n",
    "\n"
   ],
   "id": "657d0dcdd227b291",
   "outputs": [],
   "execution_count": 11
  },
  {
   "metadata": {
    "ExecuteTime": {
     "end_time": "2025-05-27T18:09:11.216283Z",
     "start_time": "2025-05-27T18:09:05.213643Z"
    }
   },
   "cell_type": "code",
   "source": [
    "get_data_from_database('Сочи')\n",
    "get_data_from_database('Дубай')\n"
   ],
   "id": "553ff5a10cca4d11",
   "outputs": [
    {
     "name": "stdout",
     "output_type": "stream",
     "text": [
      "Получен запрос: Сочи\n",
      "Данные получены: Сочи\n",
      "Получен запрос: Дубай\n",
      "Данные получены: Дубай\n"
     ]
    }
   ],
   "execution_count": 13
  },
  {
   "metadata": {
    "ExecuteTime": {
     "end_time": "2025-05-27T18:25:08.260290Z",
     "start_time": "2025-05-27T18:25:08.257965Z"
    }
   },
   "cell_type": "code",
   "source": [
    "async def get_data_from_database_async(query: str):\n",
    "    print(f'Получен запрос: {query}')\n",
    "    if query == 'Сочи':\n",
    "        await  asyncio.sleep(4)\n",
    "    elif query == 'Дубай':\n",
    "        await  asyncio.sleep(2)\n",
    "    print(f\"Данные получены: {query}\")\n",
    "    return 'Results'\n",
    "\n"
   ],
   "id": "a3f1478d9f105edb",
   "outputs": [],
   "execution_count": 27
  },
  {
   "metadata": {
    "ExecuteTime": {
     "end_time": "2025-05-27T18:22:10.659460Z",
     "start_time": "2025-05-27T18:22:08.655601Z"
    }
   },
   "cell_type": "code",
   "source": [
    "get_data_from_database_async('Сочи')\n",
    "await get_data_from_database_async('Дубай')"
   ],
   "id": "3242a46e50eb0dab",
   "outputs": [
    {
     "name": "stderr",
     "output_type": "stream",
     "text": [
      "/tmp/ipykernel_5172/3960450452.py:1: RuntimeWarning: coroutine 'get_data_from_database_async' was never awaited\n",
      "  get_data_from_database_async('Сочи')\n",
      "RuntimeWarning: Enable tracemalloc to get the object allocation traceback\n"
     ]
    },
    {
     "name": "stdout",
     "output_type": "stream",
     "text": [
      "Получен запрос: Дубай\n",
      "Данные получены: Дубай\n"
     ]
    }
   ],
   "execution_count": 23
  },
  {
   "metadata": {
    "ExecuteTime": {
     "end_time": "2025-05-27T18:27:41.089569Z",
     "start_time": "2025-05-27T18:27:37.085756Z"
    }
   },
   "cell_type": "code",
   "source": [
    "await asyncio.gather(\n",
    "    get_data_from_database_async('Сочи'),\n",
    "    get_data_from_database_async('Дубай'),\n",
    "    get_data_from_database_async('Сочи'),\n",
    "    get_data_from_database_async('Дубай'),\n",
    "    get_data_from_database_async('Сочи'),\n",
    "    get_data_from_database_async('Дубай'),\n",
    "    get_data_from_database_async('Сочи'),\n",
    "    get_data_from_database_async('Дубай'),\n",
    "    get_data_from_database_async('Сочи'),\n",
    "    get_data_from_database_async('Дубай'),\n",
    "    get_data_from_database_async('Сочи'),\n",
    "    get_data_from_database_async('Дубай'),\n",
    "    get_data_from_database_async('Сочи'),\n",
    "    get_data_from_database_async('Дубай'),\n",
    "    get_data_from_database_async('Сочи'),\n",
    "    get_data_from_database_async('Дубай'),\n",
    "    get_data_from_database_async('Сочи'),\n",
    "    get_data_from_database_async('Дубай'),\n",
    ")\n",
    "\n",
    "print(result_sochi, result_dubai)"
   ],
   "id": "41d7ef207f63727",
   "outputs": [
    {
     "name": "stdout",
     "output_type": "stream",
     "text": [
      "Получен запрос: Сочи\n",
      "Получен запрос: Дубай\n",
      "Получен запрос: Сочи\n",
      "Получен запрос: Дубай\n",
      "Получен запрос: Сочи\n",
      "Получен запрос: Дубай\n",
      "Получен запрос: Сочи\n",
      "Получен запрос: Дубай\n",
      "Получен запрос: Сочи\n",
      "Получен запрос: Дубай\n",
      "Получен запрос: Сочи\n",
      "Получен запрос: Дубай\n",
      "Получен запрос: Сочи\n",
      "Получен запрос: Дубай\n",
      "Получен запрос: Сочи\n",
      "Получен запрос: Дубай\n",
      "Получен запрос: Сочи\n",
      "Получен запрос: Дубай\n",
      "Данные получены: Дубай\n",
      "Данные получены: Дубай\n",
      "Данные получены: Дубай\n",
      "Данные получены: Дубай\n",
      "Данные получены: Дубай\n",
      "Данные получены: Дубай\n",
      "Данные получены: Дубай\n",
      "Данные получены: Дубай\n",
      "Данные получены: Дубай\n",
      "Данные получены: Сочи\n",
      "Данные получены: Сочи\n",
      "Данные получены: Сочи\n",
      "Данные получены: Сочи\n",
      "Данные получены: Сочи\n",
      "Данные получены: Сочи\n",
      "Данные получены: Сочи\n",
      "Данные получены: Сочи\n",
      "Данные получены: Сочи\n",
      "Results Results\n"
     ]
    }
   ],
   "execution_count": 34
  },
  {
   "metadata": {
    "ExecuteTime": {
     "end_time": "2025-05-27T18:25:25.989124Z",
     "start_time": "2025-05-27T18:25:25.986815Z"
    }
   },
   "cell_type": "code",
   "source": "result_sochi",
   "id": "f06b499e771eb1ca",
   "outputs": [
    {
     "data": {
      "text/plain": [
       "'Results'"
      ]
     },
     "execution_count": 30,
     "metadata": {},
     "output_type": "execute_result"
    }
   ],
   "execution_count": 30
  },
  {
   "metadata": {
    "ExecuteTime": {
     "end_time": "2025-05-27T18:25:36.543315Z",
     "start_time": "2025-05-27T18:25:36.540836Z"
    }
   },
   "cell_type": "code",
   "source": "result_dubai",
   "id": "6b33b44aba67336f",
   "outputs": [
    {
     "data": {
      "text/plain": [
       "'Results'"
      ]
     },
     "execution_count": 31,
     "metadata": {},
     "output_type": "execute_result"
    }
   ],
   "execution_count": 31
  }
 ],
 "metadata": {
  "kernelspec": {
   "display_name": "Python 3",
   "language": "python",
   "name": "python3"
  },
  "language_info": {
   "codemirror_mode": {
    "name": "ipython",
    "version": 2
   },
   "file_extension": ".py",
   "mimetype": "text/x-python",
   "name": "python",
   "nbconvert_exporter": "python",
   "pygments_lexer": "ipython2",
   "version": "2.7.6"
  }
 },
 "nbformat": 4,
 "nbformat_minor": 5
}
